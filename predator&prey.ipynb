{
 "cells": [
  {
   "cell_type": "code",
   "execution_count": 1,
   "id": "e8d1a744",
   "metadata": {},
   "outputs": [],
   "source": [
    "import numpy as np\n",
    "import matplotlib.pyplot as plt\n",
    "from matplotlib import animation\n",
    "import random\n",
    "import uuid"
   ]
  },
  {
   "cell_type": "code",
   "execution_count": 2,
   "id": "cbb9438b",
   "metadata": {},
   "outputs": [],
   "source": [
    "from matplotlib import rc\n",
    "rc('animation', html='jshtml')"
   ]
  },
  {
   "cell_type": "code",
   "execution_count": 3,
   "id": "a0f2d8af",
   "metadata": {},
   "outputs": [],
   "source": [
    "INIT_PREDATORS = 100        #Początkowa liczba drapieżników\n",
    "INIT_PREYS = 500            #Początkowa liczba ofiar\n",
    "X_MIN = 0\n",
    "X_MAX = 2\n",
    "Y_MIN = 0\n",
    "Y_MAX = 2\n",
    "SAFE_DISTANCE = 0.1         #odległość potrzebna do ataku drapieżnika\n",
    "PREDATOR_EFFECTIVENESS = 30 #liczba z zakresu od 0-100 określająca szansę na śmierć ofiary w starciu z drapieżnikiem\n",
    "MAX_VITALITY = 30           #wytrzymałość drapieżników (ile rund jest w stanie wytrzymać bez jedzenia)\n",
    "ITERATIONS = 500            #liczba iteracji / kroków w błądzeniu losowym, którą symulujemy\n",
    "STEP_SIZE = 0.02"
   ]
  },
  {
   "cell_type": "code",
   "execution_count": 4,
   "id": "e34828a5",
   "metadata": {},
   "outputs": [],
   "source": [
    "class SurfaceBoundaries:\n",
    "    def __init__(self, x_min, x_max, y_min, y_max):\n",
    "        self.x_min = x_min\n",
    "        self.x_max = x_max\n",
    "        self.y_min = y_min\n",
    "        self.y_max = y_max\n",
    "        \n",
    "    def isWithinBoundaries(self, position):\n",
    "        return (self.x_min <= position.x <= self.x_max and self.y_min <= position.y <= self.y_max)"
   ]
  },
  {
   "cell_type": "code",
   "execution_count": 5,
   "id": "2e5c00fa",
   "metadata": {},
   "outputs": [],
   "source": [
    "surfaceBoundaries = SurfaceBoundaries(X_MIN, X_MAX, Y_MIN, Y_MAX)"
   ]
  },
  {
   "cell_type": "code",
   "execution_count": 6,
   "id": "45de576e",
   "metadata": {},
   "outputs": [],
   "source": [
    "class Position:\n",
    "    def __init__(self, x, y):\n",
    "        self.x = x\n",
    "        self.y = y\n",
    "        \n",
    "    def __str__(self):\n",
    "        return (\"Position(\" + str(self.x) + \", \" + str(self.y) + \")\")\n",
    "    \n",
    "    def adjust_to_boundaries(self, surfaceBoundaries):\n",
    "        if not surfaceBoundaries.isWithinBoundaries(self):\n",
    "            if self.x < surfaceBoundaries.x_min: self.x = surfaceBoundaries.x_min\n",
    "            if self.x > surfaceBoundaries.x_max: self.x = surfaceBoundaries.x_max\n",
    "            if self.y < surfaceBoundaries.y_min: self.y = surfaceBoundaries.y_min\n",
    "            if self.y > surfaceBoundaries.y_max: self.y = surfaceBoundaries.y_max\n",
    "                \n",
    "    def random_step(self, surfaceBoundaries):\n",
    "        phi = 2 * np.pi * random.uniform(0, 1)\n",
    "        self.x += np.cos(phi) * STEP_SIZE\n",
    "        self.y += np.sin(phi) * STEP_SIZE\n",
    "        self.adjust_to_boundaries(surfaceBoundaries)\n",
    "\n",
    "def randomPosition(surfaceBoundaries):\n",
    "    x = random.uniform(surfaceBoundaries.x_min, surfaceBoundaries.x_max)\n",
    "    y = random.uniform(surfaceBoundaries.y_min, surfaceBoundaries.y_max)\n",
    "    return Position(x, y)\n",
    "\n",
    "def distance(position_a, position_b):\n",
    "    return math.sqrt(\n",
    "        pow(position_a.x - position_b.x, 2) + pow(position_a.y - position_b.y, 2)        \n",
    "    )"
   ]
  },
  {
   "cell_type": "code",
   "execution_count": 7,
   "id": "86a23da4",
   "metadata": {},
   "outputs": [],
   "source": [
    "def are_too_close(predator, prey):\n",
    "            distance(prey.position, predator.position) < SAFE_DISTANCE\n",
    "        \n",
    "def coin_flip(probability):\n",
    "    #accepts probability as number from 0 to 1\n",
    "    #perform the binomial distribution (returns 0 or 1)    \n",
    "    return np.random.binomial(1,probability)"
   ]
  },
  {
   "cell_type": "code",
   "execution_count": 11,
   "id": "cbdfe17e",
   "metadata": {},
   "outputs": [],
   "source": [
    "class Predator:\n",
    "    def __init__(self, surfaceBoundaries, MAX_VITALITY):\n",
    "        self.id = uuid.uuid1()\n",
    "        self.position = randomPosition(surfaceBoundaries)\n",
    "        self.isAlive = True\n",
    "        self.vitality = MAX_VITALITY\n",
    "\n",
    "    def __str__(self):\n",
    "        return (\"Predator(\" + \n",
    "                str(self.id) + \", \" + \n",
    "                str(self.position) + \", \" + \n",
    "                str(self.isAlive) + \", \" + \n",
    "                str(self.vitality) + \n",
    "                \")\")"
   ]
  },
  {
   "cell_type": "code",
   "execution_count": null,
   "id": "be3d3b0a",
   "metadata": {},
   "outputs": [],
   "source": []
  },
  {
   "cell_type": "code",
   "execution_count": 26,
   "id": "a0a9a8fb",
   "metadata": {},
   "outputs": [],
   "source": [
    "class Prey:\n",
    "    def __init__(self, surfaceBoundaries):\n",
    "        self.id = uuid.uuid1()\n",
    "        self.position = randomPosition(surfaceBoundaries)\n",
    "        self.isAlive = True\n",
    "        \n",
    "    def get_endangering_predators(self, predators):\n",
    "        return (self, list(filter(lambda predator: are_too_close(self, predator), predators)))\n",
    "        \n",
    "    def chance_to_die(self, endangering_predators_number):\n",
    "        chance_to_survive = pow(((100 - PREDATOR_EFFECTIVENESS) / 100), endangering_predators_number)\n",
    "        return 1 - chance_to_survive\n",
    "    \n",
    "    def __str__(self):\n",
    "        return (\"Prey(\" + \n",
    "                str(self.id) + \", \" + \n",
    "                str(self.position) + \", \" + \n",
    "                str(self.isAlive) +\n",
    "                \")\")"
   ]
  },
  {
   "cell_type": "code",
   "execution_count": 27,
   "id": "b1609c95",
   "metadata": {},
   "outputs": [],
   "source": [
    "predators = []\n",
    "for i in range(INIT_PREDATORS):\n",
    "    predators.append(Predator(surfaceBoundaries, MAX_VITALITY))"
   ]
  },
  {
   "cell_type": "code",
   "execution_count": 28,
   "id": "4b347944",
   "metadata": {},
   "outputs": [],
   "source": [
    "preys = []\n",
    "for i in range(INIT_PREYS):\n",
    "    preys.append(Prey(surfaceBoundaries))"
   ]
  },
  {
   "cell_type": "code",
   "execution_count": 29,
   "id": "44e12407",
   "metadata": {},
   "outputs": [],
   "source": [
    "dead_predators = []\n",
    "dead_preys = []"
   ]
  },
  {
   "cell_type": "code",
   "execution_count": 30,
   "id": "61b4bb3d",
   "metadata": {},
   "outputs": [],
   "source": [
    "def find_endangered_preys_and_attacking_predators():\n",
    "    endangered_preys = []\n",
    "    for prey in preys:\n",
    "        endangering_predators = prey.get_endangering_predators(predators)\n",
    "        \n",
    "        if len(endangering_predators) > 0:\n",
    "            chance_to_die = prey.chance_to_die(len(endangering_predators))\n",
    "            endangered_preys.append((prey, endangering_predators, chance_to_die))\n",
    "    return endangered_preys"
   ]
  },
  {
   "cell_type": "code",
   "execution_count": 31,
   "id": "36510266",
   "metadata": {},
   "outputs": [],
   "source": [
    "def mark_predators_meal(happy_predators):\n",
    "    updated_predators = []\n",
    "    for predator in predators:\n",
    "        if predator in happy_predators:\n",
    "            predator.vitality = MAX_VITALITY\n",
    "        updated_predators.append(predator)\n",
    "    predators = updated_predators"
   ]
  },
  {
   "cell_type": "code",
   "execution_count": 32,
   "id": "29970de6",
   "metadata": {},
   "outputs": [],
   "source": [
    "def clash_preys_and_predators(endangered_preys):\n",
    "    for (prey, endangering_predators, chance_to_die) in endangered_preys:\n",
    "        prey_dies = (coin_flip(chance_to_die) == 1) # == 1 converts 0/1 to False/True\n",
    "        if prey_dies:\n",
    "            println(\"Prey \" + str(prey) + \" got killed by predators \" + str(endangering_predators))\n",
    "            prey.isAlive = False\n",
    "            mark_predators_meal(endangering_predators)\n"
   ]
  },
  {
   "cell_type": "code",
   "execution_count": null,
   "id": "d88fc4bb",
   "metadata": {},
   "outputs": [],
   "source": []
  },
  {
   "cell_type": "code",
   "execution_count": null,
   "id": "3b9f5074",
   "metadata": {},
   "outputs": [],
   "source": []
  },
  {
   "cell_type": "code",
   "execution_count": 33,
   "id": "53575c98",
   "metadata": {},
   "outputs": [],
   "source": [
    "def decrement_predators_vitality():\n",
    "    for predator in predators:\n",
    "        predator.vitality =+ -1\n",
    "        if predator.vitality == 0:\n",
    "            predator.isAlive = False"
   ]
  },
  {
   "cell_type": "code",
   "execution_count": 34,
   "id": "10a4337b",
   "metadata": {},
   "outputs": [],
   "source": [
    "def filter_out_dead_predators():\n",
    "    new_dead_predators = list(filter(lambda predator: (predator.isAlive == False), predators))\n",
    "    alive_predators = list(filter(lambda predator: (predator.isAlive == True), predators))\n",
    "    predators = alive_predators\n",
    "    dead_predators += new_dead_predators    "
   ]
  },
  {
   "cell_type": "code",
   "execution_count": 35,
   "id": "d2f49b3e",
   "metadata": {},
   "outputs": [],
   "source": [
    "def filter_out_dead_preys():\n",
    "    new_killed_preys = list(filter(lambda prey: (prey.isAlive == False), preys))\n",
    "    alive_preys = list(filter(lambda prey: (prey.isAlive == True), preys))\n",
    "    preys = alive_preys\n",
    "    dead_preys += new_killed_preys"
   ]
  },
  {
   "cell_type": "code",
   "execution_count": 36,
   "id": "f6ef1496",
   "metadata": {},
   "outputs": [],
   "source": [
    "def move_alive_animals_by_one_random_step():\n",
    "    for predator in predators:\n",
    "        predator.position.random_step(surfaceBoundaries)\n",
    "    for prey in preys:\n",
    "        prey.position.random_step(surfaceBoundaries)    "
   ]
  },
  {
   "cell_type": "code",
   "execution_count": 37,
   "id": "89af12f9",
   "metadata": {},
   "outputs": [
    {
     "ename": "NameError",
     "evalue": "name 'math' is not defined",
     "output_type": "error",
     "traceback": [
      "\u001b[0;31m---------------------------------------------------------------------------\u001b[0m",
      "\u001b[0;31mNameError\u001b[0m                                 Traceback (most recent call last)",
      "Input \u001b[0;32mIn [37]\u001b[0m, in \u001b[0;36m<module>\u001b[0;34m\u001b[0m\n\u001b[1;32m      1\u001b[0m \u001b[38;5;28;01mfor\u001b[39;00m i \u001b[38;5;129;01min\u001b[39;00m \u001b[38;5;28mrange\u001b[39m(ITERATIONS):\n\u001b[0;32m----> 2\u001b[0m     endangered_preys \u001b[38;5;241m=\u001b[39m \u001b[43mfind_endangered_preys_and_attacking_predators\u001b[49m\u001b[43m(\u001b[49m\u001b[43m)\u001b[49m\n\u001b[1;32m      3\u001b[0m     clash_preys_and_predators(endangered_preys)\n\u001b[1;32m      4\u001b[0m     decrement_predators_vitality()\n",
      "Input \u001b[0;32mIn [30]\u001b[0m, in \u001b[0;36mfind_endangered_preys_and_attacking_predators\u001b[0;34m()\u001b[0m\n\u001b[1;32m      2\u001b[0m endangered_preys \u001b[38;5;241m=\u001b[39m []\n\u001b[1;32m      3\u001b[0m \u001b[38;5;28;01mfor\u001b[39;00m prey \u001b[38;5;129;01min\u001b[39;00m preys:\n\u001b[0;32m----> 4\u001b[0m     endangering_predators \u001b[38;5;241m=\u001b[39m \u001b[43mprey\u001b[49m\u001b[38;5;241;43m.\u001b[39;49m\u001b[43mget_endangering_predators\u001b[49m\u001b[43m(\u001b[49m\u001b[43mpredators\u001b[49m\u001b[43m)\u001b[49m\n\u001b[1;32m      6\u001b[0m     \u001b[38;5;28;01mif\u001b[39;00m \u001b[38;5;28mlen\u001b[39m(endangering_predators) \u001b[38;5;241m>\u001b[39m \u001b[38;5;241m0\u001b[39m:\n\u001b[1;32m      7\u001b[0m         chance_to_die \u001b[38;5;241m=\u001b[39m prey\u001b[38;5;241m.\u001b[39mchance_to_die(\u001b[38;5;28mlen\u001b[39m(endangering_predators))\n",
      "Input \u001b[0;32mIn [26]\u001b[0m, in \u001b[0;36mPrey.get_endangering_predators\u001b[0;34m(self, predators)\u001b[0m\n\u001b[1;32m      7\u001b[0m \u001b[38;5;28;01mdef\u001b[39;00m \u001b[38;5;21mget_endangering_predators\u001b[39m(\u001b[38;5;28mself\u001b[39m, predators):\n\u001b[0;32m----> 8\u001b[0m     \u001b[38;5;28;01mreturn\u001b[39;00m (\u001b[38;5;28mself\u001b[39m, \u001b[38;5;28;43mlist\u001b[39;49m\u001b[43m(\u001b[49m\u001b[38;5;28;43mfilter\u001b[39;49m\u001b[43m(\u001b[49m\u001b[38;5;28;43;01mlambda\u001b[39;49;00m\u001b[43m \u001b[49m\u001b[43mpredator\u001b[49m\u001b[43m:\u001b[49m\u001b[43m \u001b[49m\u001b[43mare_too_close\u001b[49m\u001b[43m(\u001b[49m\u001b[38;5;28;43mself\u001b[39;49m\u001b[43m,\u001b[49m\u001b[43m \u001b[49m\u001b[43mpredator\u001b[49m\u001b[43m)\u001b[49m\u001b[43m,\u001b[49m\u001b[43m \u001b[49m\u001b[43mpredators\u001b[49m\u001b[43m)\u001b[49m\u001b[43m)\u001b[49m)\n",
      "Input \u001b[0;32mIn [26]\u001b[0m, in \u001b[0;36mPrey.get_endangering_predators.<locals>.<lambda>\u001b[0;34m(predator)\u001b[0m\n\u001b[1;32m      7\u001b[0m \u001b[38;5;28;01mdef\u001b[39;00m \u001b[38;5;21mget_endangering_predators\u001b[39m(\u001b[38;5;28mself\u001b[39m, predators):\n\u001b[0;32m----> 8\u001b[0m     \u001b[38;5;28;01mreturn\u001b[39;00m (\u001b[38;5;28mself\u001b[39m, \u001b[38;5;28mlist\u001b[39m(\u001b[38;5;28mfilter\u001b[39m(\u001b[38;5;28;01mlambda\u001b[39;00m predator: \u001b[43mare_too_close\u001b[49m\u001b[43m(\u001b[49m\u001b[38;5;28;43mself\u001b[39;49m\u001b[43m,\u001b[49m\u001b[43m \u001b[49m\u001b[43mpredator\u001b[49m\u001b[43m)\u001b[49m, predators)))\n",
      "Input \u001b[0;32mIn [7]\u001b[0m, in \u001b[0;36mare_too_close\u001b[0;34m(predator, prey)\u001b[0m\n\u001b[1;32m      1\u001b[0m \u001b[38;5;28;01mdef\u001b[39;00m \u001b[38;5;21mare_too_close\u001b[39m(predator, prey):\n\u001b[0;32m----> 2\u001b[0m             \u001b[43mdistance\u001b[49m\u001b[43m(\u001b[49m\u001b[43mprey\u001b[49m\u001b[38;5;241;43m.\u001b[39;49m\u001b[43mposition\u001b[49m\u001b[43m,\u001b[49m\u001b[43m \u001b[49m\u001b[43mpredator\u001b[49m\u001b[38;5;241;43m.\u001b[39;49m\u001b[43mposition\u001b[49m\u001b[43m)\u001b[49m \u001b[38;5;241m<\u001b[39m SAFE_DISTANCE\n",
      "Input \u001b[0;32mIn [6]\u001b[0m, in \u001b[0;36mdistance\u001b[0;34m(position_a, position_b)\u001b[0m\n\u001b[1;32m     27\u001b[0m \u001b[38;5;28;01mdef\u001b[39;00m \u001b[38;5;21mdistance\u001b[39m(position_a, position_b):\n\u001b[0;32m---> 28\u001b[0m     \u001b[38;5;28;01mreturn\u001b[39;00m \u001b[43mmath\u001b[49m\u001b[38;5;241m.\u001b[39msqrt(\n\u001b[1;32m     29\u001b[0m         \u001b[38;5;28mpow\u001b[39m(position_a\u001b[38;5;241m.\u001b[39mx \u001b[38;5;241m-\u001b[39m position_b\u001b[38;5;241m.\u001b[39mx, \u001b[38;5;241m2\u001b[39m) \u001b[38;5;241m+\u001b[39m \u001b[38;5;28mpow\u001b[39m(position_a\u001b[38;5;241m.\u001b[39my \u001b[38;5;241m-\u001b[39m position_b\u001b[38;5;241m.\u001b[39my, \u001b[38;5;241m2\u001b[39m)        \n\u001b[1;32m     30\u001b[0m     )\n",
      "\u001b[0;31mNameError\u001b[0m: name 'math' is not defined"
     ]
    }
   ],
   "source": [
    "for i in range(ITERATIONS):\n",
    "    endangered_preys = find_endangered_preys_and_attacking_predators()\n",
    "    clash_preys_and_predators(endangered_preys)\n",
    "    decrement_predators_vitality()\n",
    "    filter_out_dead_predators()\n",
    "    filter_out_dead_preys()\n",
    "    move_alive_animals_by_one_random_step()\n",
    "    "
   ]
  },
  {
   "cell_type": "code",
   "execution_count": null,
   "id": "c6765f49",
   "metadata": {},
   "outputs": [],
   "source": []
  }
 ],
 "metadata": {
  "kernelspec": {
   "display_name": "Python 3 (ipykernel)",
   "language": "python",
   "name": "python3"
  },
  "language_info": {
   "codemirror_mode": {
    "name": "ipython",
    "version": 3
   },
   "file_extension": ".py",
   "mimetype": "text/x-python",
   "name": "python",
   "nbconvert_exporter": "python",
   "pygments_lexer": "ipython3",
   "version": "3.9.10"
  }
 },
 "nbformat": 4,
 "nbformat_minor": 5
}
